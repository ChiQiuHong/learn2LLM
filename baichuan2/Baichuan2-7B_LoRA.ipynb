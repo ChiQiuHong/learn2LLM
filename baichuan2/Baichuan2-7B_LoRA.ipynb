{
 "cells": [
  {
   "cell_type": "markdown",
   "id": "5db9cde6-ab46-41fd-aafe-1ec17ebdfd22",
   "metadata": {},
   "source": [
    "# Baichuan2-7B LoRA微调 ModelScope\n",
    "\n",
    "使用了ModelScope平台 \n",
    "\n",
    "fp16精度下LoRA微调，需要24GB的显卡\n",
    "\n",
    "## 安装环境"
   ]
  },
  {
   "cell_type": "code",
   "execution_count": null,
   "id": "793528f2-6b5f-43a2-bddf-fbf388e3a26d",
   "metadata": {
    "ExecutionIndicator": {
     "show": true
    },
    "tags": []
   },
   "outputs": [],
   "source": [
    "!pip install -q accelerate\n",
    "!pip install -q peft\n",
    "!pip install -q torchkeras"
   ]
  },
  {
   "cell_type": "markdown",
   "id": "99cfbe13-eb82-4a86-ab9d-cacf8669ac72",
   "metadata": {},
   "source": [
    "## 0 Baichuan2-7B-Chat 预训练模型"
   ]
  },
  {
   "cell_type": "code",
   "execution_count": 2,
   "id": "5679def8-ae2a-4732-9f9f-130816a09585",
   "metadata": {
    "ExecutionIndicator": {
     "show": true
    },
    "execution": {
     "iopub.execute_input": "2023-09-20T11:54:52.056284Z",
     "iopub.status.busy": "2023-09-20T11:54:52.055960Z",
     "iopub.status.idle": "2023-09-20T12:02:45.717696Z",
     "shell.execute_reply": "2023-09-20T12:02:45.717202Z",
     "shell.execute_reply.started": "2023-09-20T11:54:52.056265Z"
    },
    "tags": []
   },
   "outputs": [
    {
     "name": "stderr",
     "output_type": "stream",
     "text": [
      "2023-09-20 19:54:52,246 - modelscope - INFO - Use user-specified model revision: v1.0.1\n",
      "Downloading: 100%|██████████| 22.0/22.0 [00:00<00:00, 3.21kB/s]\n",
      "Downloading: 100%|██████████| 716/716 [00:00<00:00, 121kB/s]\n",
      "Downloading: 100%|██████████| 215/215 [00:00<00:00, 160kB/s]\n",
      "Downloading: 100%|██████████| 2.39k/2.39k [00:00<00:00, 2.03MB/s]\n",
      "Downloading: 100%|██████████| 285/285 [00:00<00:00, 233kB/s]\n",
      "Downloading: 100%|██████████| 2.90k/2.90k [00:00<00:00, 2.23MB/s]\n",
      "Downloading: 100%|██████████| 32.3k/32.3k [00:00<00:00, 892kB/s]\n",
      "Downloading: 100%|██████████| 3.28k/3.28k [00:00<00:00, 2.47MB/s]\n",
      "Downloading: 100%|█████████▉| 9.25G/9.25G [04:19<00:00, 38.3MB/s]\n",
      "Downloading: 100%|█████████▉| 4.73G/4.73G [03:13<00:00, 26.2MB/s]\n",
      "Downloading: 100%|██████████| 18.2k/18.2k [00:00<00:00, 643kB/s]\n",
      "Downloading: 100%|██████████| 8.93k/8.93k [00:00<00:00, 5.17MB/s]\n",
      "Downloading: 100%|██████████| 8.55k/8.55k [00:00<00:00, 5.78MB/s]\n",
      "Downloading: 100%|██████████| 548/548 [00:00<00:00, 437kB/s]\n",
      "Downloading: 100%|██████████| 9.39k/9.39k [00:00<00:00, 6.31MB/s]\n",
      "Downloading: 100%|██████████| 1.91M/1.91M [00:00<00:00, 10.3MB/s]\n",
      "Downloading: 100%|██████████| 795/795 [00:00<00:00, 509kB/s]\n"
     ]
    }
   ],
   "source": [
    "from modelscope.hub.snapshot_download import snapshot_download\n",
    "\n",
    "model_dir = snapshot_download('baichuan-inc/baichuan2-7B-Chat', cache_dir='baichuan2-7B-Chat', revision='v1.0.1')"
   ]
  },
  {
   "cell_type": "code",
   "execution_count": 1,
   "id": "ee4a24b2-add8-4dca-9f48-bf9989a2d287",
   "metadata": {
    "ExecutionIndicator": {
     "show": false
    },
    "execution": {
     "iopub.execute_input": "2023-09-20T18:40:09.377153Z",
     "iopub.status.busy": "2023-09-20T18:40:09.376834Z",
     "iopub.status.idle": "2023-09-20T18:40:56.187452Z",
     "shell.execute_reply": "2023-09-20T18:40:56.187005Z",
     "shell.execute_reply.started": "2023-09-20T18:40:09.377131Z"
    },
    "tags": []
   },
   "outputs": [
    {
     "name": "stderr",
     "output_type": "stream",
     "text": [
      "Xformers is not installed correctly. If you want to use memory_efficient_attention to accelerate training use the following command to install Xformers\n",
      "pip install xformers.\n"
     ]
    },
    {
     "data": {
      "application/vnd.jupyter.widget-view+json": {
       "model_id": "ed000e42747d44aa802e4d4c155e2a0b",
       "version_major": 2,
       "version_minor": 0
      },
      "text/plain": [
       "Loading checkpoint shards:   0%|          | 0/2 [00:00<?, ?it/s]"
      ]
     },
     "metadata": {},
     "output_type": "display_data"
    }
   ],
   "source": [
    "# import sys\n",
    "# sys.path.append(\"/mnt/workspace/baichuan-7B/baichuan-inc/baichuan-7B\")\n",
    "\n",
    "from transformers import AutoModelForCausalLM, AutoTokenizer\n",
    "from transformers.generation.utils import GenerationConfig\n",
    "\n",
    "import torch\n",
    "\n",
    "model_path = \"baichuan2-7B-Chat/baichuan-inc/baichuan2-7B-Chat\"\n",
    "\n",
    "tokenizer = AutoTokenizer.from_pretrained(model_path, trust_remote_code=True)\n",
    "model = AutoModelForCausalLM.from_pretrained(model_path,device_map=\"auto\", torch_dtype=torch.float16, trust_remote_code=True)\n",
    "model.generation_config = GenerationConfig.from_pretrained(model_path)\n",
    "\n",
    "# 用fp16加载，约占用15.3GB的显存"
   ]
  },
  {
   "cell_type": "code",
   "execution_count": 9,
   "id": "93fc159e-6d2a-4c73-ae88-eaefeb3420a9",
   "metadata": {
    "execution": {
     "iopub.execute_input": "2023-09-20T12:06:30.195140Z",
     "iopub.status.busy": "2023-09-20T12:06:30.194822Z",
     "iopub.status.idle": "2023-09-20T12:06:37.565703Z",
     "shell.execute_reply": "2023-09-20T12:06:37.565171Z",
     "shell.execute_reply.started": "2023-09-20T12:06:30.195122Z"
    },
    "tags": []
   },
   "outputs": [
    {
     "name": "stdout",
     "output_type": "stream",
     "text": [
      "Baichuan2:  \"温故而知新\"是一个中国古代成语，出自《论语·为政》。它的意思是通过回顾和了解过去的事情，可以从中获得新的知识和启示。这个成语强调了学习和知识的重要性，以及通过不断复习和总结来提高自己的重要性。\n",
      "\n",
      "这个成语的内涵包括两个方面：一是要善于学习，二是要善于总结。善于学习意味着要不断学习新知识，拓宽自己的视野；善于总结意味着要学会从过去的经验中汲取教训，以便更好地应对未来的挑战。总之，\"温故而知新\"是一种积极的学习态度和方法，有助于个人和社会的发展和进步。\n"
     ]
    }
   ],
   "source": [
    "messages = []\n",
    "messages.append({\"role\": \"user\", \"content\": \"解释一下“温故而知新”\"})\n",
    "response = model.chat(tokenizer, messages)\n",
    "print(\"Baichuan2: \", response)"
   ]
  },
  {
   "cell_type": "markdown",
   "id": "f739c2ad-bb97-47ef-961b-9d8ce1df8a7d",
   "metadata": {},
   "source": [
    "### 微调前的效果："
   ]
  },
  {
   "cell_type": "code",
   "execution_count": 6,
   "id": "cd1abdc4-c306-4bd3-b43d-a2ec86ebb981",
   "metadata": {
    "execution": {
     "iopub.execute_input": "2023-09-20T18:45:14.780740Z",
     "iopub.status.busy": "2023-09-20T18:45:14.780385Z",
     "iopub.status.idle": "2023-09-20T18:45:14.783865Z",
     "shell.execute_reply": "2023-09-20T18:45:14.783190Z",
     "shell.execute_reply.started": "2023-09-20T18:45:14.780717Z"
    },
    "tags": []
   },
   "outputs": [],
   "source": [
    "prompt_text = \"你现在是一个信息抽取模型，请你帮我抽取出关系内容为\\\"性能故障\\\", \\\"部件故障\\\", \\\"组成\\\"和 \\\"检测工具\\\"的相关三元组，三元组内部用\\\"_\\\"连接，三元组之间用\\\\n分割。文本：\"\n",
    "\n",
    "def get_prompt(text):\n",
    "    return prompt_text + text"
   ]
  },
  {
   "cell_type": "code",
   "execution_count": 11,
   "id": "525dd187-d011-4fa3-9a27-bf83b1fef9c6",
   "metadata": {
    "execution": {
     "iopub.execute_input": "2023-09-20T12:07:59.893937Z",
     "iopub.status.busy": "2023-09-20T12:07:59.893596Z",
     "iopub.status.idle": "2023-09-20T12:08:00.308386Z",
     "shell.execute_reply": "2023-09-20T12:08:00.307910Z",
     "shell.execute_reply.started": "2023-09-20T12:07:59.893919Z"
    },
    "tags": []
   },
   "outputs": [
    {
     "name": "stdout",
     "output_type": "stream",
     "text": [
      "Baichuan2:  性能故障_部件故障_组成_检测工具\n"
     ]
    }
   ],
   "source": [
    "messages = []\n",
    "messages.append({\"role\": \"user\", \"content\": get_prompt(\"故障现象：奔腾B70做PDI检查时车辆无法启动。\")})\n",
    "response = model.chat(tokenizer, messages)\n",
    "print(\"Baichuan2: \", response)"
   ]
  },
  {
   "cell_type": "markdown",
   "id": "92ca9477-e101-43f1-832a-f0cc746c0f86",
   "metadata": {},
   "source": [
    "## 1 加载训练数据"
   ]
  },
  {
   "cell_type": "code",
   "execution_count": 12,
   "id": "b9a7ee00-ae20-42c7-9696-8e5f3567985c",
   "metadata": {
    "execution": {
     "iopub.execute_input": "2023-09-20T12:10:27.532279Z",
     "iopub.status.busy": "2023-09-20T12:10:27.531946Z",
     "iopub.status.idle": "2023-09-20T12:10:28.362156Z",
     "shell.execute_reply": "2023-09-20T12:10:28.361659Z",
     "shell.execute_reply.started": "2023-09-20T12:10:27.532261Z"
    },
    "tags": []
   },
   "outputs": [],
   "source": [
    "from torch.utils.data import DataLoader, RandomSampler\n",
    "from data_set import Seq2SeqDataSet2, coll_fn\n",
    "\n",
    "train_path = \"dataset/spo_0.json\"\n",
    "max_len = 2048\n",
    "max_src_len = 1280\n",
    "batch_size = 2\n",
    "\n",
    "train_dataset = val_dataset = Seq2SeqDataSet2(train_path, tokenizer, max_len, max_src_len, prompt_text)\n",
    "\n",
    "train_dataloader = DataLoader(train_dataset,\n",
    "                              batch_size=batch_size,\n",
    "                              sampler=RandomSampler(train_dataset),\n",
    "                              collate_fn=coll_fn,\n",
    "                              drop_last=True,\n",
    "                              num_workers=2)\n",
    "\n",
    "val_dataloader = DataLoader(val_dataset,\n",
    "                            batch_size=batch_size,\n",
    "                            shuffle=False,\n",
    "                            collate_fn=coll_fn,\n",
    "                            num_workers=2)"
   ]
  },
  {
   "cell_type": "code",
   "execution_count": 13,
   "id": "33190b5b-e538-4446-8e28-40c9427deef4",
   "metadata": {
    "execution": {
     "iopub.execute_input": "2023-09-20T12:10:44.086876Z",
     "iopub.status.busy": "2023-09-20T12:10:44.086520Z",
     "iopub.status.idle": "2023-09-20T12:10:44.240218Z",
     "shell.execute_reply": "2023-09-20T12:10:44.239694Z",
     "shell.execute_reply.started": "2023-09-20T12:10:44.086857Z"
    },
    "tags": []
   },
   "outputs": [
    {
     "data": {
      "text/plain": [
       "dict_keys(['input_ids', 'labels'])"
      ]
     },
     "execution_count": 13,
     "metadata": {},
     "output_type": "execute_result"
    }
   ],
   "source": [
    "for batch in train_dataloader:\n",
    "    break\n",
    "\n",
    "batch.keys()"
   ]
  },
  {
   "cell_type": "code",
   "execution_count": 14,
   "id": "3a10c263-dedd-4e02-a872-af13248b155c",
   "metadata": {
    "execution": {
     "iopub.execute_input": "2023-09-20T12:10:50.863515Z",
     "iopub.status.busy": "2023-09-20T12:10:50.863170Z",
     "iopub.status.idle": "2023-09-20T12:10:50.867330Z",
     "shell.execute_reply": "2023-09-20T12:10:50.866853Z",
     "shell.execute_reply.started": "2023-09-20T12:10:50.863493Z"
    },
    "tags": []
   },
   "outputs": [
    {
     "data": {
      "text/plain": [
       "torch.Size([2, 2048])"
      ]
     },
     "execution_count": 14,
     "metadata": {},
     "output_type": "execute_result"
    }
   ],
   "source": [
    "batch['input_ids'].shape"
   ]
  },
  {
   "cell_type": "markdown",
   "id": "635a1ee5-e60f-4642-abd7-1e631bf1b55d",
   "metadata": {},
   "source": [
    "## 2 定义模型"
   ]
  },
  {
   "cell_type": "code",
   "execution_count": 17,
   "id": "02cafd30-9734-4679-8705-a20d3a2b4a39",
   "metadata": {
    "ExecutionIndicator": {
     "show": false
    },
    "execution": {
     "iopub.execute_input": "2023-09-20T12:16:29.145981Z",
     "iopub.status.busy": "2023-09-20T12:16:29.145636Z",
     "iopub.status.idle": "2023-09-20T12:16:45.765448Z",
     "shell.execute_reply": "2023-09-20T12:16:45.764827Z",
     "shell.execute_reply.started": "2023-09-20T12:16:29.145962Z"
    },
    "tags": []
   },
   "outputs": [
    {
     "name": "stdout",
     "output_type": "stream",
     "text": [
      "trainable params: 4,194,304 || all params: 7,510,167,552 || trainable%: 0.055848341211549045\n"
     ]
    }
   ],
   "source": [
    "from peft import get_peft_model, LoraConfig, TaskType\n",
    "\n",
    "model.supports_gradient_checkpointing = True  #节约cuda，但可能会使得训练时间变长\n",
    "model.gradient_checkpointing_enable() # 作用同上\n",
    "model.enable_input_require_grads() # 作用同上\n",
    "\n",
    "model.config.use_cache = False  # 关闭了模型的缓存机制，该设置可以避免一些警告，但在模型推理时需要重新开启\n",
    "\n",
    "# 配置LORA模型的类\n",
    "# 常规LM任务\n",
    "# 非推理模式\n",
    "peft_config = LoraConfig(\n",
    "    task_type=TaskType.CAUSAL_LM, \n",
    "    target_modules=[\"W_pack\"],\n",
    "    inference_mode=False,\n",
    "    r=8,\n",
    "    lora_alpha=32, \n",
    "    lora_dropout=0.1,\n",
    ")\n",
    "\n",
    "# 结合Lora和原有模型\n",
    "model = get_peft_model(model, peft_config)\n",
    "# 开启模型的并行处理能力，这可以在有多个GPU的情况下提高训练效率\n",
    "model.is_parallelizable = True\n",
    "model.model_parallel = True\n",
    "# 打印出模型的可训练参数\n",
    "model.print_trainable_parameters()\n",
    "# 可训练参数：4,194,304\n",
    "# 总参数量：7,510,167,552\n",
    "# 需要调整的模型参数量的占比还是很低的 0.056%"
   ]
  },
  {
   "cell_type": "markdown",
   "id": "f2404117-ea25-4065-b248-7652af67635c",
   "metadata": {},
   "source": [
    "## 3 训练模型"
   ]
  },
  {
   "cell_type": "code",
   "execution_count": 19,
   "id": "920e0815-8a8c-404e-8a58-ae9be14f94a8",
   "metadata": {
    "ExecutionIndicator": {
     "show": true
    },
    "execution": {
     "iopub.execute_input": "2023-09-20T12:24:22.369688Z",
     "iopub.status.busy": "2023-09-20T12:24:22.369174Z",
     "iopub.status.idle": "2023-09-20T12:24:22.379112Z",
     "shell.execute_reply": "2023-09-20T12:24:22.378559Z",
     "shell.execute_reply.started": "2023-09-20T12:24:22.369654Z"
    },
    "tags": []
   },
   "outputs": [],
   "source": [
    "from torchkeras import KerasModel\n",
    "from accelerate import Accelerator\n",
    "# 重写了torchkeras中的StepRunner类\n",
    "class StepRunner:\n",
    "    def __init__(self, net, loss_fn, accelerator=None, stage = \"train\", metrics_dict = None,\n",
    "                 optimizer = None, lr_scheduler = None\n",
    "                 ):\n",
    "        self.net,self.loss_fn,self.metrics_dict,self.stage = net,loss_fn,metrics_dict,stage\n",
    "        self.optimizer,self.lr_scheduler = optimizer,lr_scheduler\n",
    "        self.accelerator = accelerator if accelerator is not None else Accelerator()\n",
    "        if self.stage=='train':\n",
    "            self.net.train()\n",
    "        else:\n",
    "            self.net.eval()\n",
    "\n",
    "    def __call__(self, batch):\n",
    "\n",
    "        # 计算loss\n",
    "        with self.accelerator.autocast():\n",
    "            # 通过模型self.net对输入数据进行预测，然后用预测结果和标签计算损失, loss的计算过程直接交给ChatGLM2了吗？\n",
    "            loss = self.net.forward(**batch)[0]\n",
    "\n",
    "        # 执行梯度下降的步骤\n",
    "        if self.optimizer is not None and self.stage==\"train\":\n",
    "            # 计算每个模型参数关于损失的梯度\n",
    "            self.accelerator.backward(loss)\n",
    "            # 执行梯度裁剪（self.accelerator.clip_grad_norm_），防止梯度爆炸\n",
    "            if self.accelerator.sync_gradients:\n",
    "                self.accelerator.clip_grad_norm_(self.net.parameters(), 1.0)\n",
    "            # 更新模型参数\n",
    "            self.optimizer.step()\n",
    "            # 存在学习率调整器，就调整学习率\n",
    "            if self.lr_scheduler is not None:\n",
    "                self.lr_scheduler.step()\n",
    "            # 清空梯度\n",
    "            self.optimizer.zero_grad()\n",
    "\n",
    "        # 给并行计算和多GPU计算的损失收集起来并求和\n",
    "        all_loss = self.accelerator.gather(loss).sum()\n",
    "\n",
    "        # losses (or plain metrics that can be averaged)\n",
    "        step_losses = {self.stage+\"_loss\":all_loss.item()}\n",
    "\n",
    "        # metrics (stateful metrics)\n",
    "        step_metrics = {}\n",
    "\n",
    "        # 记录过程信息，追踪模型性能用\n",
    "        if self.stage==\"train\":\n",
    "            if self.optimizer is not None:\n",
    "                step_metrics['lr'] = self.optimizer.state_dict()['param_groups'][0]['lr']\n",
    "            else:\n",
    "                step_metrics['lr'] = 0.0\n",
    "        return step_losses,step_metrics\n",
    "\n",
    "KerasModel.StepRunner = StepRunner\n",
    "\n",
    "# 仅仅保存lora可训练参数\n",
    "# 覆盖了KerasModel中的load_ckpt和save_ckpt方法\n",
    "def save_ckpt(self, ckpt_path='checkpoint', accelerator = None):\n",
    "    unwrap_net = accelerator.unwrap_model(self.net)\n",
    "    unwrap_net.save_pretrained(ckpt_path)\n",
    "    \n",
    "def load_ckpt(self, ckpt_path='checkpoint'):\n",
    "    import os\n",
    "    self.net.load_state_dict(\n",
    "        torch.load(os.path.join(ckpt_path,'adapter_model.bin')),strict =False)\n",
    "    self.from_scratch = False\n",
    "\n",
    "KerasModel.save_ckpt = save_ckpt\n",
    "KerasModel.load_ckpt = load_ckpt"
   ]
  },
  {
   "cell_type": "code",
   "execution_count": 20,
   "id": "f1d17dbe-0921-405e-a315-54a471585934",
   "metadata": {
    "execution": {
     "iopub.execute_input": "2023-09-20T12:27:05.945650Z",
     "iopub.status.busy": "2023-09-20T12:27:05.945287Z",
     "iopub.status.idle": "2023-09-20T12:27:05.950987Z",
     "shell.execute_reply": "2023-09-20T12:27:05.950390Z",
     "shell.execute_reply.started": "2023-09-20T12:27:05.945628Z"
    },
    "tags": []
   },
   "outputs": [],
   "source": [
    "keras_model = KerasModel(model,loss_fn = None,\n",
    "        optimizer=torch.optim.AdamW(model.parameters(),lr=2e-6))\n",
    "ckpt_path = 'baichuan2-7B-chat_lora'"
   ]
  },
  {
   "cell_type": "code",
   "execution_count": null,
   "id": "34f5cf04-2b78-4727-92b2-ddaceedfb429",
   "metadata": {
    "execution": {
     "iopub.execute_input": "2023-09-20T12:27:09.113314Z",
     "iopub.status.busy": "2023-09-20T12:27:09.112992Z"
    },
    "tags": []
   },
   "outputs": [
    {
     "name": "stdout",
     "output_type": "stream",
     "text": [
      "\u001b[0;31m<<<<<< ⚡️ cuda is used >>>>>>\u001b[0m\n"
     ]
    },
    {
     "data": {
      "image/png": "[encoded data removed]",
      "text/plain": [
       "<Figure size 600x400 with 1 Axes>"
      ]
     },
     "metadata": {},
     "output_type": "display_data"
    },
    {
     "data": {
      "text/html": [
       "\n",
       "<style>\n",
       "    /* background: */\n",
       "    progress::-webkit-progress-bar {background-color: #CDCDCD; width: 100%;}\n",
       "    progress {background-color: #CDCDCD;}\n",
       "\n",
       "    /* value: */\n",
       "    progress::-webkit-progress-value {background-color: #00BFFF  !important;}\n",
       "    progress::-moz-progress-bar {background-color: #00BFFF  !important;}\n",
       "    progress {color: #00BFFF ;}\n",
       "\n",
       "    /* optional */\n",
       "    .progress-bar-interrupted, .progress-bar-interrupted::-webkit-progress-bar {\n",
       "        background: #000000;\n",
       "    }\n",
       "</style>\n"
      ],
      "text/plain": [
       "<IPython.core.display.HTML object>"
      ]
     },
     "metadata": {},
     "output_type": "display_data"
    },
    {
     "data": {
      "text/html": [
       "\n",
       "    <div>\n",
       "      <progress value='1' class='' max='5' style='width:300px; height:20px; vertical-align: middle;'></progress>\n",
       "      20.00% [1/5] [1:14:26<4:57:46]\n",
       "      <br>\n",
       "      ███████████▍        57.42% [414/721] [val_loss=0.6475]\n",
       "    </div>\n",
       "    "
      ],
      "text/plain": [
       "<IPython.core.display.HTML object>"
      ]
     },
     "metadata": {},
     "output_type": "display_data"
    }
   ],
   "source": [
    "keras_model.fit(train_data = train_dataloader,\n",
    "                val_data = val_dataloader,\n",
    "                epochs=5, patience=5,\n",
    "                monitor='val_loss', mode='min',\n",
    "                ckpt_path = ckpt_path,\n",
    "               )"
   ]
  },
  {
   "cell_type": "markdown",
   "id": "77803f22-2d05-4806-bf15-2d83df4ad465",
   "metadata": {},
   "source": [
    "## 4 验证训练后结果\n",
    "\n"
   ]
  },
  {
   "cell_type": "code",
   "execution_count": 4,
   "id": "cb04d01e-2a68-4318-b3c0-ebe336120733",
   "metadata": {
    "ExecutionIndicator": {
     "show": true
    },
    "execution": {
     "iopub.execute_input": "2023-09-20T18:44:17.679288Z",
     "iopub.status.busy": "2023-09-20T18:44:17.678961Z",
     "iopub.status.idle": "2023-09-20T18:44:46.163375Z",
     "shell.execute_reply": "2023-09-20T18:44:46.162796Z",
     "shell.execute_reply.started": "2023-09-20T18:44:17.679269Z"
    },
    "tags": []
   },
   "outputs": [],
   "source": [
    "from peft import PeftModel\n",
    "\n",
    "ckpt_path = 'baichuan2-7B-chat_lora'\n",
    "\n",
    "model = PeftModel.from_pretrained(model, ckpt_path)\n",
    "model = model.merge_and_unload() #合并lora权重"
   ]
  },
  {
   "cell_type": "code",
   "execution_count": 7,
   "id": "8635fad1-4fb2-4228-bdb8-48c67eadef5e",
   "metadata": {
    "execution": {
     "iopub.execute_input": "2023-09-20T18:45:20.830615Z",
     "iopub.status.busy": "2023-09-20T18:45:20.830284Z",
     "iopub.status.idle": "2023-09-20T18:45:24.764614Z",
     "shell.execute_reply": "2023-09-20T18:45:24.764067Z",
     "shell.execute_reply.started": "2023-09-20T18:45:20.830595Z"
    },
    "tags": []
   },
   "outputs": [
    {
     "name": "stderr",
     "output_type": "stream",
     "text": [
      "2023-09-21 02:45:21.549898: I tensorflow/core/util/port.cc:110] oneDNN custom operations are on. You may see slightly different numerical results due to floating-point round-off errors from different computation orders. To turn them off, set the environment variable `TF_ENABLE_ONEDNN_OPTS=0`.\n",
      "2023-09-21 02:45:21.589711: I tensorflow/core/platform/cpu_feature_guard.cc:182] This TensorFlow binary is optimized to use available CPU instructions in performance-critical operations.\n",
      "To enable the following instructions: AVX2 AVX512F AVX512_VNNI FMA, in other operations, rebuild TensorFlow with the appropriate compiler flags.\n",
      "2023-09-21 02:45:22.555130: W tensorflow/compiler/tf2tensorrt/utils/py_utils.cc:38] TF-TRT Warning: Could not find TensorRT\n"
     ]
    },
    {
     "name": "stdout",
     "output_type": "stream",
     "text": [
      "Baichuan2:  车辆_部件故障_无法启动\n"
     ]
    }
   ],
   "source": [
    "messages = []\n",
    "messages.append({\"role\": \"user\", \"content\": get_prompt(\"故障现象：奔腾B70做PDI检查时车辆无法启动。\")})\n",
    "response = model.chat(tokenizer, messages)\n",
    "print(\"Baichuan2: \", response)"
   ]
  },
  {
   "cell_type": "markdown",
   "id": "888c726a-6ab4-40f9-ae4e-d7b217891c98",
   "metadata": {},
   "source": [
    "## 5 测试"
   ]
  },
  {
   "cell_type": "code",
   "execution_count": 11,
   "id": "c0069e04-1465-4bf4-83e2-8831ba5bd144",
   "metadata": {
    "ExecutionIndicator": {
     "show": true
    },
    "execution": {
     "iopub.execute_input": "2023-09-20T18:46:42.946974Z",
     "iopub.status.busy": "2023-09-20T18:46:42.946627Z",
     "iopub.status.idle": "2023-09-20T18:46:42.950717Z",
     "shell.execute_reply": "2023-09-20T18:46:42.950135Z",
     "shell.execute_reply.started": "2023-09-20T18:46:42.946956Z"
    },
    "tags": []
   },
   "outputs": [],
   "source": [
    "import torch\n",
    "\n",
    "def predict_one_sample(model, tokenizer, text):\n",
    "    messages.append({\"role\": \"user\", \"content\": get_prompt(text)})\n",
    "    with torch.no_grad():\n",
    "        response = model.chat(tokenizer, messages)\n",
    "    \n",
    "    # 对结果按照“\\n”进行分割，获取每个三元组内容\n",
    "    pre_res = list(set([rr for rr in response.split('\\n') if len(rr.split(\"_\"))==3]))\n",
    "\n",
    "    return response, pre_res"
   ]
  },
  {
   "cell_type": "code",
   "execution_count": 12,
   "id": "e5c59b6f-3176-48f9-98c0-7542d4738d6a",
   "metadata": {
    "ExecutionIndicator": {
     "show": false
    },
    "execution": {
     "iopub.execute_input": "2023-09-20T18:46:45.078235Z",
     "iopub.status.busy": "2023-09-20T18:46:45.077870Z",
     "iopub.status.idle": "2023-09-20T18:51:03.332416Z",
     "shell.execute_reply": "2023-09-20T18:51:03.331949Z",
     "shell.execute_reply.started": "2023-09-20T18:46:45.078209Z"
    },
    "tags": []
   },
   "outputs": [
    {
     "data": {
      "application/vnd.jupyter.widget-view+json": {
       "model_id": "69083ced954443108093a36b60c3fca6",
       "version_major": 2,
       "version_minor": 0
      },
      "text/plain": [
       "iter: 0it [00:00, ?it/s]"
      ]
     },
     "metadata": {},
     "output_type": "display_data"
    },
    {
     "name": "stdout",
     "output_type": "stream",
     "text": [
      "f1: 0.01\n"
     ]
    }
   ],
   "source": [
    "import json\n",
    "import os\n",
    "from tqdm.notebook import tqdm\n",
    "\n",
    "test_path = \"dataset/spo_1.json\"\n",
    "save_data = []\n",
    "f1, total = 0.0, 0.0\n",
    "\n",
    "with open(test_path, 'r', encoding='utf-8') as fh:\n",
    "    for i, line in enumerate(tqdm(fh, desc=\"iter\")):\n",
    "        total += 1\n",
    "        sample = json.loads(line.strip())\n",
    "        response, pre_res = predict_one_sample(model, tokenizer, sample[\"text\"])\n",
    "        real_res = sample[\"answer\"].split(\"\\n\")\n",
    "        # 计算预测与真实的F1值\n",
    "        same_res = set(pre_res) & set(real_res)\n",
    "        if len(set(pre_res)) == 0:\n",
    "            p = 0.0\n",
    "        else:\n",
    "            p = len(same_res) / len(set(pre_res))\n",
    "        r = len(same_res) / len(set(real_res))\n",
    "        if (p + r) != 0.0:\n",
    "            f = 2 * p * r / (p + r)\n",
    "        else:\n",
    "            f = 0.0\n",
    "        f1 += f \n",
    "        save_data.append(\n",
    "            {\"text\": sample[\"text\"], \"ori_answer\": sample[\"answer\"], \"gen_answer\": response, \"f1\": f})\n",
    "    \n",
    "print(\"f1:\", f1 / total)\n",
    "save_path = os.path.join('baichuan2-7B-chat_lora', \"ft_answer.json\")\n",
    "fin = open(save_path, \"w\", encoding=\"utf-8\")\n",
    "json.dump(save_data, fin, ensure_ascii=False, indent=4)\n",
    "fin.close()"
   ]
  }
 ],
 "metadata": {
  "kernelspec": {
   "display_name": "Python 3 (ipykernel)",
   "language": "python",
   "name": "python3"
  },
  "language_info": {
   "codemirror_mode": {
    "name": "ipython",
    "version": 3
   },
   "file_extension": ".py",
   "mimetype": "text/x-python",
   "name": "python",
   "nbconvert_exporter": "python",
   "pygments_lexer": "ipython3",
   "version": "3.8.16"
  }
 },
 "nbformat": 4,
 "nbformat_minor": 5
}
