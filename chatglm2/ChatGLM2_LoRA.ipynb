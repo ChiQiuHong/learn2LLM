{
 "cells": [
  {
   "cell_type": "markdown",
   "metadata": {},
   "source": [
    "# ChatGLM2-6B 信息抽取任务\n",
    "\n",
    "信息抽取数据集采自CCF2022工业知识图谱关系抽取比赛，并针对一个工业制造领域的相关故障文本，抽取4种类型的实体（部件单元、性能表征、故障状态和检测工具）以及4种类型的关系（部件故障、性能故障、检测工具、组成）。由于数据量较少，在实战过程中，随机抽取50条数据作为测试数据，其余数据作为训练数据集。"
   ]
  },
  {
   "cell_type": "markdown",
   "metadata": {},
   "source": [
    "## 0 ChatGLM2-6B 预训练模型"
   ]
  },
  {
   "cell_type": "code",
   "execution_count": 1,
   "metadata": {},
   "outputs": [],
   "source": [
    "from argparse import Namespace\n",
    "cfg = Namespace()\n",
    "\n",
    "# model\n",
    "cfg.model_name_or_path = '/home/huang/models/chatglm2-6b'\n",
    "cfg.train_path = \"/home/huang/codespace/learn2LLM/dataset/fine-tuning/spo_0.json\"\n",
    "cfg.test_path = \"/home/huang/codespace/learn2LLM/dataset/fine-tuning/spo_1.json\"\n",
    "cfg.num_return_sequences = 1\n",
    "cfg.max_len = 768\n",
    "cfg.max_src_len = 450\n",
    "cfg.batch_size = 2\n",
    "cfg.prompt_text = \"你现在是一个信息抽取模型，请你帮我抽取出关系内容为\\\"性能故障\\\", \\\"部件故障\\\", \\\"组成\\\"和 \\\"检测工具\\\"的相关三元组，三元组内部用\\\"_\\\"连接，三元组之间用\\\\n分割。文本：\"\n",
    "\n",
    "def get_prompt(text):\n",
    "    return cfg.prompt_text + text"
   ]
  },
  {
   "cell_type": "code",
   "execution_count": 2,
   "metadata": {},
   "outputs": [
    {
     "data": {
      "application/vnd.jupyter.widget-view+json": {
       "model_id": "20aeff06872a458c842a60c534aaa2ce",
       "version_major": 2,
       "version_minor": 0
      },
      "text/plain": [
       "Loading checkpoint shards:   0%|          | 0/7 [00:00<?, ?it/s]"
      ]
     },
     "metadata": {},
     "output_type": "display_data"
    }
   ],
   "source": [
    "from transformers import AutoTokenizer, AutoModel\n",
    "\n",
    "tokenizer = AutoTokenizer.from_pretrained(cfg.model_name_or_path, trust_remote_code=True)\n",
    "model = AutoModel.from_pretrained(cfg.model_name_or_path, trust_remote_code=True).quantize(8).cuda()"
   ]
  },
  {
   "cell_type": "code",
   "execution_count": 4,
   "metadata": {},
   "outputs": [
    {
     "name": "stdout",
     "output_type": "stream",
     "text": [
      "根据所提供的文本,我抽取出以下三个相关三元组:\n",
      "\n",
      "1. 性能故障 -> 部件故障 -> 发动机\n",
      "2. 性能故障 -> 组成 -> 悬挂系统\n",
      "3. 性能故障 -> 组成 -> 制动系统\n",
      "4. 部件故障 -> 组成 -> 发动机\n",
      "5. 部件故障 -> 组成 -> 悬挂系统\n",
      "6. 部件故障 -> 组成 -> 制动系统\n",
      "7. 组成 -> 检测工具 -> 仪器设备\n",
      "8. 组成 -> 检测工具 -> 人工检查\n"
     ]
    }
   ],
   "source": [
    "response,history= model.chat(tokenizer, get_prompt(\"故障现象：奔腾B70做PDI检查时车辆无法启动。\"), history=[])\n",
    "print(response)"
   ]
  },
  {
   "cell_type": "markdown",
   "metadata": {},
   "source": [
    "## 1 加载训练数据"
   ]
  },
  {
   "cell_type": "code",
   "execution_count": 3,
   "metadata": {},
   "outputs": [],
   "source": [
    "from torch.utils.data import DataLoader, RandomSampler\n",
    "from data_set import Seq2SeqDataSet2, coll_fn\n",
    "\n",
    "train_dataset = val_dataset = Seq2SeqDataSet2(cfg.train_path, tokenizer, cfg.max_len, cfg.max_src_len,\n",
    "                               cfg.prompt_text)\n",
    "\n",
    "train_dataloader = DataLoader(train_dataset,\n",
    "                              batch_size=cfg.batch_size,\n",
    "                              sampler=RandomSampler(train_dataset),\n",
    "                              collate_fn=coll_fn,\n",
    "                              drop_last=True,\n",
    "                              num_workers=2)\n",
    "\n",
    "val_dataloader = DataLoader(val_dataset,\n",
    "                            batch_size=cfg.batch_size,\n",
    "                            shuffle=False,\n",
    "                            collate_fn=coll_fn,\n",
    "                            num_workers=2)\n"
   ]
  },
  {
   "cell_type": "code",
   "execution_count": 4,
   "metadata": {},
   "outputs": [
    {
     "data": {
      "text/plain": [
       "dict_keys(['input_ids', 'labels'])"
      ]
     },
     "execution_count": 4,
     "metadata": {},
     "output_type": "execute_result"
    }
   ],
   "source": [
    "for batch in train_dataloader:\n",
    "    break\n",
    "\n",
    "batch.keys()"
   ]
  },
  {
   "cell_type": "code",
   "execution_count": 5,
   "metadata": {},
   "outputs": [
    {
     "data": {
      "text/plain": [
       "torch.Size([2, 768])"
      ]
     },
     "execution_count": 5,
     "metadata": {},
     "output_type": "execute_result"
    }
   ],
   "source": [
    "batch['input_ids'].shape"
   ]
  },
  {
   "cell_type": "markdown",
   "metadata": {},
   "source": [
    "## 2 定义模型"
   ]
  },
  {
   "cell_type": "code",
   "execution_count": 6,
   "metadata": {},
   "outputs": [
    {
     "data": {
      "application/vnd.jupyter.widget-view+json": {
       "model_id": "a2b7f1d3b9264c658cc6434c65dc1f2d",
       "version_major": 2,
       "version_minor": 0
      },
      "text/plain": [
       "Loading checkpoint shards:   0%|          | 0/7 [00:00<?, ?it/s]"
      ]
     },
     "metadata": {},
     "output_type": "display_data"
    },
    {
     "name": "stdout",
     "output_type": "stream",
     "text": [
      "trainable params: 1,949,696 || all params: 6,245,533,696 || trainable%: 0.031217444255383614\n"
     ]
    }
   ],
   "source": [
    "from transformers import AutoTokenizer, AutoModel, TrainingArguments, AutoConfig\n",
    "import torch\n",
    "import torch.nn as nn\n",
    "from peft import get_peft_model, LoraConfig, TaskType\n",
    "\n",
    "# 加载ChatGLM2-6B模型并不以8bit的精度载入\n",
    "\n",
    "model = AutoModel.from_pretrained(cfg.model_name_or_path,\n",
    "                                  load_in_8bit=True,\n",
    "                                  trust_remote_code=True)\n",
    "\n",
    "model.supports_gradient_checkpointing = True  #节约cuda，但可能会使得训练时间变长\n",
    "model.gradient_checkpointing_enable() # 作用同上\n",
    "model.enable_input_require_grads() # 作用同上\n",
    "\n",
    "model.config.use_cache = False  # 关闭了模型的缓存机制，该设置可以避免一些警告，但在模型推理时需要重新开启\n",
    "\n",
    "# 配置LORA模型的类\n",
    "# 常规LM任务\n",
    "# 非推理模式\n",
    "peft_config = LoraConfig(\n",
    "    task_type=TaskType.CAUSAL_LM, inference_mode=False,\n",
    "    r=8,\n",
    "    lora_alpha=32, lora_dropout=0.1,\n",
    ")\n",
    "\n",
    "# 结合Lora和原有模型\n",
    "model = get_peft_model(model, peft_config)\n",
    "# 开启模型的并行处理能力，这可以在有多个GPU的情况下提高训练效率\n",
    "model.is_parallelizable = True\n",
    "model.model_parallel = True\n",
    "# 打印出模型的可训练参数\n",
    "model.print_trainable_parameters()\n",
    "# 可训练参数：1949696\n",
    "# 总参数量：6245533696\n",
    "# 需要调整的模型参数量的占比还是很低的 3.1%"
   ]
  },
  {
   "cell_type": "markdown",
   "metadata": {},
   "source": [
    "## 3 训练模型"
   ]
  },
  {
   "cell_type": "code",
   "execution_count": 7,
   "metadata": {},
   "outputs": [],
   "source": [
    "from torchkeras import KerasModel\n",
    "from accelerate import Accelerator\n",
    "# 重写了torchkeras中的StepRunner类\n",
    "class StepRunner:\n",
    "    def __init__(self, net, loss_fn, accelerator=None, stage = \"train\", metrics_dict = None,\n",
    "                 optimizer = None, lr_scheduler = None\n",
    "                 ):\n",
    "        self.net,self.loss_fn,self.metrics_dict,self.stage = net,loss_fn,metrics_dict,stage\n",
    "        self.optimizer,self.lr_scheduler = optimizer,lr_scheduler\n",
    "        self.accelerator = accelerator if accelerator is not None else Accelerator()\n",
    "        if self.stage=='train':\n",
    "            self.net.train()\n",
    "        else:\n",
    "            self.net.eval()\n",
    "\n",
    "    def __call__(self, batch):\n",
    "\n",
    "        # 计算loss\n",
    "        with self.accelerator.autocast():\n",
    "            # 通过模型self.net对输入数据进行预测，然后用预测结果和标签计算损失, loss的计算过程直接交给ChatGLM2了吗？\n",
    "            loss = self.net(input_ids=batch[\"input_ids\"],labels=batch[\"labels\"]).loss\n",
    "\n",
    "        # 执行梯度下降的步骤\n",
    "        if self.optimizer is not None and self.stage==\"train\":\n",
    "            # 计算每个模型参数关于损失的梯度\n",
    "            self.accelerator.backward(loss)\n",
    "            # 执行梯度裁剪（self.accelerator.clip_grad_norm_），防止梯度爆炸\n",
    "            if self.accelerator.sync_gradients:\n",
    "                self.accelerator.clip_grad_norm_(self.net.parameters(), 1.0)\n",
    "            # 更新模型参数\n",
    "            self.optimizer.step()\n",
    "            # 存在学习率调整器，就调整学习率\n",
    "            if self.lr_scheduler is not None:\n",
    "                self.lr_scheduler.step()\n",
    "            # 清空梯度\n",
    "            self.optimizer.zero_grad()\n",
    "\n",
    "        # 给并行计算和多GPU计算的损失收集起来并求和\n",
    "        all_loss = self.accelerator.gather(loss).sum()\n",
    "\n",
    "        # losses (or plain metrics that can be averaged)\n",
    "        step_losses = {self.stage+\"_loss\":all_loss.item()}\n",
    "\n",
    "        # metrics (stateful metrics)\n",
    "        step_metrics = {}\n",
    "\n",
    "        # 记录过程信息，追踪模型性能用\n",
    "        if self.stage==\"train\":\n",
    "            if self.optimizer is not None:\n",
    "                step_metrics['lr'] = self.optimizer.state_dict()['param_groups'][0]['lr']\n",
    "            else:\n",
    "                step_metrics['lr'] = 0.0\n",
    "        return step_losses,step_metrics\n",
    "\n",
    "KerasModel.StepRunner = StepRunner\n",
    "\n",
    "# 仅仅保存lora可训练参数\n",
    "# 覆盖了KerasModel中的load_ckpt和save_ckpt方法\n",
    "def save_ckpt(self, ckpt_path='checkpoint', accelerator = None):\n",
    "    unwrap_net = accelerator.unwrap_model(self.net)\n",
    "    unwrap_net.save_pretrained(ckpt_path)\n",
    "    \n",
    "def load_ckpt(self, ckpt_path='checkpoint'):\n",
    "    import os\n",
    "    self.net.load_state_dict(\n",
    "        torch.load(os.path.join(ckpt_path,'adapter_model.bin')),strict =False)\n",
    "    self.from_scratch = False\n",
    "\n",
    "KerasModel.save_ckpt = save_ckpt\n",
    "KerasModel.load_ckpt = load_ckpt"
   ]
  },
  {
   "cell_type": "code",
   "execution_count": 8,
   "metadata": {},
   "outputs": [],
   "source": [
    "# 定义模型的训练\n",
    "# 没有损失函数\n",
    "# 优化器是adamW\n",
    "# 学习率 2e-6\n",
    "# 模型参数存储路径\n",
    "keras_model = KerasModel(model,loss_fn = None,\n",
    "        optimizer=torch.optim.AdamW(model.parameters(),lr=2e-6))\n",
    "ckpt_path = 'chatglm2_lora'"
   ]
  },
  {
   "cell_type": "code",
   "execution_count": 9,
   "metadata": {},
   "outputs": [
    {
     "name": "stdout",
     "output_type": "stream",
     "text": [
      "\u001b[0;31m<<<<<< ⚡️ cuda is used >>>>>>\u001b[0m\n"
     ]
    },
    {
     "data": {
      "image/png": "[encoded data removed]",
      "text/plain": [
       "<Figure size 600x400 with 1 Axes>"
      ]
     },
     "metadata": {},
     "output_type": "display_data"
    },
    {
     "data": {
      "text/html": [
       "\n",
       "<style>\n",
       "    /* background: */\n",
       "    progress::-webkit-progress-bar {background-color: #CDCDCD; width: 100%;}\n",
       "    progress {background-color: #CDCDCD;}\n",
       "\n",
       "    /* value: */\n",
       "    progress::-webkit-progress-value {background-color: #00BFFF  !important;}\n",
       "    progress::-moz-progress-bar {background-color: #00BFFF  !important;}\n",
       "    progress {color: #00BFFF ;}\n",
       "\n",
       "    /* optional */\n",
       "    .progress-bar-interrupted, .progress-bar-interrupted::-webkit-progress-bar {\n",
       "        background: #000000;\n",
       "    }\n",
       "</style>\n"
      ],
      "text/plain": [
       "<IPython.core.display.HTML object>"
      ]
     },
     "metadata": {},
     "output_type": "display_data"
    },
    {
     "data": {
      "text/html": [
       "\n",
       "    <div>\n",
       "      <progress value='5' class='' max='5' style='width:300px; height:20px; vertical-align: middle;'></progress>\n",
       "      100% [5/5] [1:28:35]\n",
       "      <br>\n",
       "      ████████████████████100.00% [721/721] [val_loss=0.6001]\n",
       "    </div>\n",
       "    "
      ],
      "text/plain": [
       "<IPython.core.display.HTML object>"
      ]
     },
     "metadata": {},
     "output_type": "display_data"
    },
    {
     "data": {
      "text/html": [
       "<div>\n",
       "<style scoped>\n",
       "    .dataframe tbody tr th:only-of-type {\n",
       "        vertical-align: middle;\n",
       "    }\n",
       "\n",
       "    .dataframe tbody tr th {\n",
       "        vertical-align: top;\n",
       "    }\n",
       "\n",
       "    .dataframe thead th {\n",
       "        text-align: right;\n",
       "    }\n",
       "</style>\n",
       "<table border=\"1\" class=\"dataframe\">\n",
       "  <thead>\n",
       "    <tr style=\"text-align: right;\">\n",
       "      <th></th>\n",
       "      <th>epoch</th>\n",
       "      <th>train_loss</th>\n",
       "      <th>lr</th>\n",
       "      <th>val_loss</th>\n",
       "    </tr>\n",
       "  </thead>\n",
       "  <tbody>\n",
       "    <tr>\n",
       "      <th>0</th>\n",
       "      <td>1</td>\n",
       "      <td>1.869305</td>\n",
       "      <td>0.000002</td>\n",
       "      <td>1.337776</td>\n",
       "    </tr>\n",
       "    <tr>\n",
       "      <th>1</th>\n",
       "      <td>2</td>\n",
       "      <td>1.087982</td>\n",
       "      <td>0.000002</td>\n",
       "      <td>0.906639</td>\n",
       "    </tr>\n",
       "    <tr>\n",
       "      <th>2</th>\n",
       "      <td>3</td>\n",
       "      <td>0.809775</td>\n",
       "      <td>0.000002</td>\n",
       "      <td>0.741788</td>\n",
       "    </tr>\n",
       "    <tr>\n",
       "      <th>3</th>\n",
       "      <td>4</td>\n",
       "      <td>0.690527</td>\n",
       "      <td>0.000002</td>\n",
       "      <td>0.654930</td>\n",
       "    </tr>\n",
       "    <tr>\n",
       "      <th>4</th>\n",
       "      <td>5</td>\n",
       "      <td>0.626518</td>\n",
       "      <td>0.000002</td>\n",
       "      <td>0.600057</td>\n",
       "    </tr>\n",
       "  </tbody>\n",
       "</table>\n",
       "</div>"
      ],
      "text/plain": [
       "   epoch  train_loss        lr  val_loss\n",
       "0      1    1.869305  0.000002  1.337776\n",
       "1      2    1.087982  0.000002  0.906639\n",
       "2      3    0.809775  0.000002  0.741788\n",
       "3      4    0.690527  0.000002  0.654930\n",
       "4      5    0.626518  0.000002  0.600057"
      ]
     },
     "execution_count": 9,
     "metadata": {},
     "output_type": "execute_result"
    }
   ],
   "source": [
    "# 训练一百轮\n",
    "# patience=5：早停策略的参数，用于防止模型在训练过程中过拟合。如果在连续的5轮训练中，验证损失（或者其他的指定指标）都没有改善，那么训练将会提前停止\n",
    "# monitor='val_loss'：需要监控的指标：验证损失\n",
    "# mode='min'：早停策略的参数，指定了改进的方向。'min'意味着指标（这里是验证损失）的最小值被视为改进\n",
    "# mixed_precision='fp16'：这是一种混合精度训练的策略。在混合精度训练中，一部分张量的数据类型会被设为低精度（如半精度浮点数fp16），这样可以减少计算资源的需求，从而提高训练速度和效率\n",
    "keras_model.fit(train_data = train_dataloader,\n",
    "                val_data = val_dataloader,\n",
    "                epochs=5, patience=5,\n",
    "                monitor='val_loss', mode='min',\n",
    "                ckpt_path = ckpt_path,\n",
    "               )"
   ]
  },
  {
   "cell_type": "markdown",
   "metadata": {},
   "source": [
    "## 4 验证训练后结果"
   ]
  },
  {
   "cell_type": "markdown",
   "metadata": {},
   "source": [
    "保存权重。因为显存不够加载模型，所以要切换到CPU来加载保存权重"
   ]
  },
  {
   "cell_type": "code",
   "execution_count": 3,
   "metadata": {},
   "outputs": [
    {
     "data": {
      "application/vnd.jupyter.widget-view+json": {
       "model_id": "a3be69d48fb24cf8b17b3e396872b25f",
       "version_major": 2,
       "version_minor": 0
      },
      "text/plain": [
       "Loading checkpoint shards:   0%|          | 0/7 [00:00<?, ?it/s]"
      ]
     },
     "metadata": {},
     "output_type": "display_data"
    }
   ],
   "source": [
    "from peft import PeftModel\n",
    "\n",
    "ckpt_path = 'chatglm2_lora'\n",
    "\n",
    "model = AutoModel.from_pretrained(cfg.model_name_or_path,\n",
    "                                  load_in_8bit=False,\n",
    "                                  trust_remote_code=True,\n",
    "                                  device_map='cpu')\n",
    "model = PeftModel.from_pretrained(model, ckpt_path)"
   ]
  },
  {
   "cell_type": "code",
   "execution_count": 4,
   "metadata": {},
   "outputs": [],
   "source": [
    "model = model.merge_and_unload() # 合并lora权重\n",
    "\n",
    "model.save_pretrained('chatglm2_6b_lora_ckpt', max_shard_size='2GB')"
   ]
  },
  {
   "cell_type": "code",
   "execution_count": 6,
   "metadata": {},
   "outputs": [],
   "source": [
    "!cp /home/huang/models/chatglm2-6b/*.py /home/huang/codespace/learn2LLM/chatglm2/chatglm2_6b_lora_ckpt/"
   ]
  },
  {
   "cell_type": "code",
   "execution_count": 5,
   "metadata": {},
   "outputs": [
    {
     "data": {
      "text/plain": [
       "('chatglm2_6b_lora_ckpt/tokenizer_config.json',\n",
       " 'chatglm2_6b_lora_ckpt/special_tokens_map.json',\n",
       " 'chatglm2_6b_lora_ckpt/tokenizer.model',\n",
       " 'chatglm2_6b_lora_ckpt/added_tokens.json')"
      ]
     },
     "execution_count": 5,
     "metadata": {},
     "output_type": "execute_result"
    }
   ],
   "source": [
    "tokenizer.save_pretrained('chatglm2_6b_lora_ckpt')"
   ]
  },
  {
   "cell_type": "code",
   "execution_count": 2,
   "metadata": {},
   "outputs": [
    {
     "data": {
      "application/vnd.jupyter.widget-view+json": {
       "model_id": "855d71fcffba4ebdb943ba58c87956bc",
       "version_major": 2,
       "version_minor": 0
      },
      "text/plain": [
       "Loading checkpoint shards:   0%|          | 0/7 [00:00<?, ?it/s]"
      ]
     },
     "metadata": {},
     "output_type": "display_data"
    }
   ],
   "source": [
    "from transformers import AutoTokenizer, AutoModel\n",
    "\n",
    "tokenizer = AutoTokenizer.from_pretrained('chatglm2_6b_lora_ckpt', trust_remote_code=True)\n",
    "model = AutoModel.from_pretrained('chatglm2_6b_lora_ckpt', trust_remote_code=True).quantize(8).cuda()"
   ]
  },
  {
   "cell_type": "code",
   "execution_count": 3,
   "metadata": {},
   "outputs": [
    {
     "name": "stdout",
     "output_type": "stream",
     "text": [
      "异响来源_部件故障_发出吱吱的声音\n",
      "异响声音_性能故障_没有变化\n",
      "仪表台_部件故障_发出异响\n",
      "雨刮水槽固定螺栓_部件故障_松动\n",
      "车外_部件故障_发出异响\n",
      "车外_部件故障_发出异响\n",
      "副驾驶侧储物箱_部件故障_异响\n",
      "雨刮器_部件故障_异响\n",
      "流水槽_部件故障_与车身产生间隙\n",
      "车外_部件故障_异响\n",
      "仪表台_部件故障_异响\n"
     ]
    }
   ],
   "source": [
    "response,history= model.chat(tokenizer, get_prompt(\"故障原因简要分析首先应仔细判断异响来源，不要盲目拆卸零部件。行驶在平坦的路面上突然急加速，能明显听到仪表台的右侧发出吱吱的响声。由于此声音较小，敲击振动时异响声音没有变化，具体部位不好判断，不能准确的判断是仪表台处发出的噪音还是车外发出的噪音。拆下副驾驶侧储物箱，将连接件重新紧固后试车故障现象依旧，拆卸雨刮器和流水槽上螺栓且全部重新紧固后试车，噪音消除。确定雨刮水槽固定螺栓松动，导致流水槽与车身产生间隙，两者相互干涉发出吱吱的异响。维修方案由于雨刮水槽固定螺栓松动，导致流水槽与车身产生间隙，两者相互干涉发出吱吱的声音。参照奔腾维修手册，重新紧固水槽螺栓，装好水槽盖板，雨刮器，试车验证车辆故障排除。\"), history=[])\n",
    "print(response)"
   ]
  },
  {
   "cell_type": "markdown",
   "metadata": {},
   "source": [
    "## 5 测试"
   ]
  },
  {
   "cell_type": "code",
   "execution_count": 11,
   "metadata": {},
   "outputs": [],
   "source": [
    "import torch\n",
    "\n",
    "def predict_one_sample(model, tokenizer, text):\n",
    "    with torch.no_grad():\n",
    "        response, history = model.chat(tokenizer, get_prompt(text), history=[])\n",
    "    \n",
    "    # 对结果按照“\\n”进行分割，获取每个三元组内容\n",
    "    pre_res = list(set([rr for rr in response.split('\\n') if len(rr.split(\"_\"))==3]))\n",
    "\n",
    "    return response, pre_res"
   ]
  },
  {
   "cell_type": "code",
   "execution_count": 13,
   "metadata": {},
   "outputs": [
    {
     "data": {
      "application/vnd.jupyter.widget-view+json": {
       "model_id": "586f388881e24d259c5e471f234df9ee",
       "version_major": 2,
       "version_minor": 0
      },
      "text/plain": [
       "iter: 0it [00:00, ?it/s]"
      ]
     },
     "metadata": {},
     "output_type": "display_data"
    },
    {
     "name": "stdout",
     "output_type": "stream",
     "text": [
      "f1: 0.1106002442002442\n"
     ]
    }
   ],
   "source": [
    "import json\n",
    "import os\n",
    "from tqdm.notebook import tqdm\n",
    "\n",
    "save_data = []\n",
    "f1, total =0.0, 0.0\n",
    "\n",
    "with open(cfg.test_path, 'r', encoding='utf-8') as fh:\n",
    "    for i, line in enumerate(tqdm(fh, desc=\"iter\")):\n",
    "        total += 1\n",
    "        sample = json.loads(line.strip())\n",
    "        response, pre_res = predict_one_sample(model, tokenizer, sample[\"text\"])\n",
    "        real_res = sample[\"answer\"].split(\"\\n\")\n",
    "        # 计算预测与真实的F1值\n",
    "        same_res = set(pre_res) & set(real_res)\n",
    "        if len(set(pre_res)) == 0:\n",
    "            p = 0.0\n",
    "        else:\n",
    "            p = len(same_res) / len(set(pre_res))\n",
    "        r = len(same_res) / len(set(real_res))\n",
    "        if (p + r) != 0.0:\n",
    "            f = 2 * p * r / (p + r)\n",
    "        else:\n",
    "            f = 0.0\n",
    "        f1 += f \n",
    "        save_data.append(\n",
    "            {\"text\": sample[\"text\"], \"ori_answer\": sample[\"answer\"], \"gen_answer\": response, \"f1\": f})\n",
    "    \n",
    "print(\"f1:\", f1 / total)\n",
    "save_path = os.path.join('chatglm2_6b_lora_ckpt', \"ft_answer.json\")\n",
    "fin = open(save_path, \"w\", encoding=\"utf-8\")\n",
    "json.dump(save_data, fin, ensure_ascii=False, indent=4)\n",
    "fin.close()"
   ]
  }
 ],
 "metadata": {
  "kernelspec": {
   "display_name": "chatglm2",
   "language": "python",
   "name": "python3"
  },
  "language_info": {
   "codemirror_mode": {
    "name": "ipython",
    "version": 3
   },
   "file_extension": ".py",
   "mimetype": "text/x-python",
   "name": "python",
   "nbconvert_exporter": "python",
   "pygments_lexer": "ipython3",
   "version": "3.9.18"
  },
  "orig_nbformat": 4
 },
 "nbformat": 4,
 "nbformat_minor": 2
}
